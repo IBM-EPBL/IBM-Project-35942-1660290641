{
  "cells": [
    {
      "cell_type": "markdown",
      "metadata": {
        "id": "McSxJAwcOdZ1"
      },
      "source": [
        "# Basic Python"
      ]
    },
    {
      "cell_type": "markdown",
      "metadata": {
        "id": "CU48hgo4Owz5"
      },
      "source": [
        "## 1. Split this string"
      ]
    },
    {
      "cell_type": "code",
      "execution_count": null,
      "metadata": {
        "id": "s07c7JK7Oqt-"
      },
      "outputs": [],
      "source": [
        "s = \"Hi there Sam!\""
      ]
    },
    {
      "cell_type": "code",
      "execution_count": null,
      "metadata": {
        "colab": {
          "base_uri": "https://localhost:8080/"
        },
        "id": "6mGVa3SQYLkb",
        "outputId": "0aabd7d3-5db4-4d16-812f-05e6623babe9"
      },
      "outputs": [
        {
          "output_type": "stream",
          "name": "stdout",
          "text": [
            "['Hi', 'there', 'Sam!']\n"
          ]
        }
      ],
      "source": [
        "# Split a string into a list using split() where each word is a list item\n",
        "x = s.split() \n",
        "print(x)"
      ]
    },
    {
      "cell_type": "markdown",
      "metadata": {
        "id": "GH1QBn8HP375"
      },
      "source": [
        "## 2. Use .format() to print the following string. \n",
        "\n",
        "### Output should be: The diameter of Earth is 12742 kilometers."
      ]
    },
    {
      "cell_type": "code",
      "execution_count": null,
      "metadata": {
        "id": "_ZHoml3kPqic"
      },
      "outputs": [],
      "source": [
        "planet = \"Earth\"\n",
        "diameter = 12742"
      ]
    },
    {
      "cell_type": "code",
      "execution_count": null,
      "metadata": {
        "colab": {
          "base_uri": "https://localhost:8080/"
        },
        "id": "dz1AgyYFI5l4",
        "outputId": "a480afa6-57c4-4012-e0da-da46f004dd7b"
      },
      "outputs": [
        {
          "output_type": "stream",
          "name": "stdout",
          "text": [
            "The diameter of Earth is 12742 kilometers.\n"
          ]
        }
      ],
      "source": [
        "#The format() method formats the specified value(s) and insert them inside the string's placeholder.\n",
        "string = \"The diameter of {} is {} kilometers.\".format(planet, diameter)\n",
        "print(string)"
      ]
    },
    {
      "cell_type": "markdown",
      "metadata": {
        "id": "KE74ZEwkRExZ"
      },
      "source": [
        "## 3. In this nest dictionary grab the word \"hello\""
      ]
    },
    {
      "cell_type": "code",
      "execution_count": null,
      "metadata": {
        "id": "fcVwbCc1QrQI"
      },
      "outputs": [],
      "source": [
        "d = {'k1':[1,2,3,{'tricky':['oh','man','inception',{'target':[1,2,3,'hello']}]}]}"
      ]
    },
    {
      "cell_type": "code",
      "execution_count": null,
      "metadata": {
        "colab": {
          "base_uri": "https://localhost:8080/"
        },
        "id": "MvbkMZpXYRaw",
        "outputId": "b0da83cb-f983-4767-83cb-c18b039ea7a5"
      },
      "outputs": [
        {
          "output_type": "stream",
          "name": "stdout",
          "text": [
            "hello\n"
          ]
        }
      ],
      "source": [
        "# grap the word \"hello\" in nested distionary\n",
        "x = d['k1'][3]['tricky'][3]['target'][3]\n",
        "print(x)"
      ]
    },
    {
      "cell_type": "markdown",
      "metadata": {
        "id": "bw0vVp-9ddjv"
      },
      "source": [
        "# Numpy"
      ]
    },
    {
      "cell_type": "code",
      "execution_count": null,
      "metadata": {
        "id": "LLiE_TYrhA1O"
      },
      "outputs": [],
      "source": [
        "import numpy as np"
      ]
    },
    {
      "cell_type": "markdown",
      "metadata": {
        "id": "wOg8hinbgx30"
      },
      "source": [
        "## 4.1 Create an array of 10 zeros? \n",
        "## 4.2 Create an array of 10 fives?"
      ]
    },
    {
      "cell_type": "code",
      "execution_count": null,
      "metadata": {
        "colab": {
          "base_uri": "https://localhost:8080/"
        },
        "id": "NHrirmgCYXvU",
        "outputId": "a687f417-0c06-427f-9bde-be5d25bbbbde"
      },
      "outputs": [
        {
          "output_type": "stream",
          "name": "stdout",
          "text": [
            "An array of 10 zeros\n",
            "[0. 0. 0. 0. 0. 0. 0. 0. 0. 0.]\n"
          ]
        }
      ],
      "source": [
        "array=np.zeros(10)\n",
        "print(\"An array of 10 zeros\")\n",
        "print(array)"
      ]
    },
    {
      "cell_type": "code",
      "execution_count": null,
      "metadata": {
        "colab": {
          "base_uri": "https://localhost:8080/"
        },
        "id": "e4005lsTYXxx",
        "outputId": "db305158-6061-4423-e64b-7b5bad55c79e"
      },
      "outputs": [
        {
          "output_type": "stream",
          "name": "stdout",
          "text": [
            "An array of 10 fives\n",
            "[5. 5. 5. 5. 5. 5. 5. 5. 5. 5.]\n"
          ]
        }
      ],
      "source": [
        "array=np.ones(10)*5\n",
        "print(\"An array of 10 fives\")\n",
        "print(array)"
      ]
    },
    {
      "cell_type": "markdown",
      "metadata": {
        "id": "gZHHDUBvrMX4"
      },
      "source": [
        "## 5. Create an array of all the even integers from 20 to 35"
      ]
    },
    {
      "cell_type": "code",
      "execution_count": null,
      "metadata": {
        "colab": {
          "base_uri": "https://localhost:8080/"
        },
        "id": "67YC9Vn1DYOa",
        "outputId": "386811ac-fbed-485c-8f07-927120a17d02"
      },
      "outputs": [
        {
          "output_type": "stream",
          "name": "stdout",
          "text": [
            "An array of all the even integers from 20 to 35\n",
            "[20 22 24 26 28 30 32 34]\n"
          ]
        }
      ],
      "source": [
        "array=np.arange(20,35,2)\n",
        "print(\"An array of all the even integers from 20 to 35\")\n",
        "print(array) "
      ]
    },
    {
      "cell_type": "markdown",
      "metadata": {
        "id": "NaOM308NsRpZ"
      },
      "source": [
        "## 6. Create a 3x3 matrix with values ranging from 0 to 8"
      ]
    },
    {
      "cell_type": "code",
      "execution_count": null,
      "metadata": {
        "colab": {
          "base_uri": "https://localhost:8080/"
        },
        "id": "tOlEVH7BYceE",
        "outputId": "7385d818-c476-4572-aa1b-6bd0febaf3be"
      },
      "outputs": [
        {
          "output_type": "stream",
          "name": "stdout",
          "text": [
            "A 3X3 matrix with values ranging from 0 to 8\n",
            "\n",
            "[[0 1 2]\n",
            " [3 4 5]\n",
            " [6 7 8]]\n"
          ]
        }
      ],
      "source": [
        "matrix =  np.arange(0, 9).reshape(3,3)\n",
        "print(\"A 3X3 matrix with values ranging from 0 to 8\\n\")\n",
        "print(matrix)"
      ]
    },
    {
      "cell_type": "markdown",
      "metadata": {
        "id": "hQ0dnhAQuU_p"
      },
      "source": [
        "## 7. Concatenate a and b \n",
        "## a = np.array([1, 2, 3]), b = np.array([4, 5, 6])"
      ]
    },
    {
      "cell_type": "code",
      "execution_count": null,
      "metadata": {
        "colab": {
          "base_uri": "https://localhost:8080/"
        },
        "id": "rAPSw97aYfE0",
        "outputId": "013076c2-0fd2-4704-9b01-8c952a1e4c78"
      },
      "outputs": [
        {
          "output_type": "stream",
          "name": "stdout",
          "text": [
            "Concatenation of a and b\n",
            "[1 2 3 4 5 6]\n"
          ]
        }
      ],
      "source": [
        "a = np.array([1, 2, 3])\n",
        "b = np.array([4, 5, 6])\n",
        "cab=np.concatenate((a,b), axis=None)\n",
        "print(\"Concatenation of a and b\")\n",
        "print(cab)"
      ]
    },
    {
      "cell_type": "markdown",
      "metadata": {
        "id": "dlPEY9DRwZga"
      },
      "source": [
        "# Pandas"
      ]
    },
    {
      "cell_type": "markdown",
      "metadata": {
        "id": "ijoYW51zwr87"
      },
      "source": [
        "## 8. Create a dataframe with 3 rows and 2 columns"
      ]
    },
    {
      "cell_type": "code",
      "execution_count": null,
      "metadata": {
        "id": "T5OxJRZ8uvR7"
      },
      "outputs": [],
      "source": [
        "import pandas as pd\n"
      ]
    },
    {
      "cell_type": "code",
      "execution_count": null,
      "metadata": {
        "colab": {
          "base_uri": "https://localhost:8080/"
        },
        "id": "xNpI_XXoYhs0",
        "outputId": "3ddb6b3a-316a-4f79-a627-6bcc7e008ed3"
      },
      "outputs": [
        {
          "output_type": "stream",
          "name": "stdout",
          "text": [
            "A dataframe with 3 rows and 2 columns\n",
            "\n",
            "student_name  cgpa_marks\n",
            " muthamizhan         9.4\n",
            "     karthik         8.9\n",
            "        Ravi         8.7\n"
          ]
        }
      ],
      "source": [
        "data = {'student_name': ['muthamizhan', 'karthik', 'Ravi'],\n",
        "        'cgpa_marks': [9.4, 8.9, 8.7]}\n",
        "\n",
        "df = pd.DataFrame(data)\n",
        "df=df.to_string(index=False)\n",
        "\n",
        "print(\"A dataframe with 3 rows and 2 columns\\n\")\n",
        "print (df)"
      ]
    },
    {
      "cell_type": "markdown",
      "metadata": {
        "id": "UXSmdNclyJQD"
      },
      "source": [
        "## 9. Generate the series of dates from 1st Jan, 2023 to 10th Feb, 2023"
      ]
    },
    {
      "cell_type": "code",
      "execution_count": null,
      "metadata": {
        "colab": {
          "base_uri": "https://localhost:8080/"
        },
        "id": "dgyC0JhVYl4F",
        "outputId": "04a9335e-edad-4880-a9ad-2c28b5e3389f"
      },
      "outputs": [
        {
          "output_type": "stream",
          "name": "stdout",
          "text": [
            "The series of dates from 1st Jan, 2023 to 10th Feb, 2023 \n",
            "\t(01-01-2023 to 10-02-2023)\n",
            "\n",
            "01-01-2023\n",
            "02-01-2023\n",
            "03-01-2023\n",
            "04-01-2023\n",
            "05-01-2023\n",
            "06-01-2023\n",
            "07-01-2023\n",
            "08-01-2023\n",
            "09-01-2023\n",
            "10-01-2023\n",
            "11-01-2023\n",
            "12-01-2023\n",
            "13-01-2023\n",
            "14-01-2023\n",
            "15-01-2023\n",
            "16-01-2023\n",
            "17-01-2023\n",
            "18-01-2023\n",
            "19-01-2023\n",
            "20-01-2023\n",
            "21-01-2023\n",
            "22-01-2023\n",
            "23-01-2023\n",
            "24-01-2023\n",
            "25-01-2023\n",
            "26-01-2023\n",
            "27-01-2023\n",
            "28-01-2023\n",
            "29-01-2023\n",
            "30-01-2023\n",
            "31-01-2023\n",
            "01-02-2023\n",
            "02-02-2023\n",
            "03-02-2023\n",
            "04-02-2023\n",
            "05-02-2023\n",
            "06-02-2023\n",
            "07-02-2023\n",
            "08-02-2023\n",
            "09-02-2023\n",
            "10-02-2023\n"
          ]
        }
      ],
      "source": [
        "date=pd.date_range(start='1/1/2023', end='2/10/2023').date #getting dates from range 1st Jan, 2023 to 10th Feb, 2023\n",
        "date = pd.to_datetime(pd.Series(date))\n",
        "date = date.dt.strftime('%d-%m-%Y')\n",
        "print(\"The series of dates from 1st Jan, 2023 to 10th Feb, 2023 \\n\\t(01-01-2023 to 10-02-2023)\\n\")\n",
        "for s_date in date:\n",
        "    print(s_date)\n"
      ]
    },
    {
      "cell_type": "markdown",
      "metadata": {
        "id": "ZizSetD-y5az"
      },
      "source": [
        "## 10. Create 2D list to DataFrame\n",
        "\n",
        "lists = [[1, 'aaa', 22],\n",
        "         [2, 'bbb', 25],\n",
        "         [3, 'ccc', 24]]"
      ]
    },
    {
      "cell_type": "code",
      "execution_count": null,
      "metadata": {
        "id": "_XMC8aEt0llB"
      },
      "outputs": [],
      "source": [
        "lists = [[1, 'aaa', 22], [2, 'bbb', 25], [3, 'ccc', 24]]"
      ]
    },
    {
      "cell_type": "code",
      "execution_count": null,
      "metadata": {
        "colab": {
          "base_uri": "https://localhost:8080/"
        },
        "id": "knH76sDKYsVX",
        "outputId": "35355aa2-8b55-499d-9046-9ed1433d4962"
      },
      "outputs": [
        {
          "output_type": "stream",
          "name": "stdout",
          "text": [
            "Given 2D list\n",
            "[[1, 'aaa', 22], [2, 'bbb', 25], [3, 'ccc', 24]]\n",
            "\n",
            "2D list to dataframe\n",
            " no name  d_no\n",
            "  1  aaa    22\n",
            "  2  bbb    25\n",
            "  3  ccc    24\n"
          ]
        }
      ],
      "source": [
        "df = pd.DataFrame(lists, columns =['no', 'name', 'd_no'])\n",
        "df=df.to_string(index=False)\n",
        "print(\"Given 2D list\")\n",
        "print(lists)\n",
        "print(\"\\n2D list to dataframe\")\n",
        "print(df)"
      ]
    }
  ],
  "metadata": {
    "accelerator": "GPU",
    "colab": {
      "collapsed_sections": [],
      "provenance": []
    },
    "gpuClass": "standard",
    "kernelspec": {
      "display_name": "Python 3",
      "name": "python3"
    },
    "language_info": {
      "name": "python"
    }
  },
  "nbformat": 4,
  "nbformat_minor": 0
}